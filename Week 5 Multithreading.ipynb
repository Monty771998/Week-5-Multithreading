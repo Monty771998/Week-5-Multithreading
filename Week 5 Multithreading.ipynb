{
 "cells": [
  {
   "cell_type": "markdown",
   "id": "071a9767-ad40-4303-9b51-8a1601150954",
   "metadata": {},
   "source": [
    "Q1. What is multithreading in python? Why is it used? Name the module used to handle threads in python"
   ]
  },
  {
   "cell_type": "markdown",
   "id": "61efb1e8-6863-4fea-820e-ba73325f217f",
   "metadata": {},
   "source": [
    "Multithreading is a technique by which we can do multiple task simulteanusly in a single core."
   ]
  },
  {
   "cell_type": "markdown",
   "id": "12366d0b-87ea-4213-a8e1-07e996bd6220",
   "metadata": {},
   "source": [
    "It is used by some reason-\n",
    "1.To improve performance\n",
    "performance can be improved by doing multiple tasks concurrently\n",
    "2.To improve responsiveness-\n",
    "responsiveness can be improved by allowing the main thread to continue executing while other threads are running\n",
    "3.To handle I/O-bound tasks\n",
    "It can handle I/O-bound tasks, such as reading from a file or connecting to a database\n"
   ]
  },
  {
   "cell_type": "code",
   "execution_count": null,
   "id": "d50fd6df-7582-450a-a761-15a0d9b992f1",
   "metadata": {},
   "outputs": [],
   "source": [
    "Name of Modules-\n",
    "Thread()\n",
    "start()\n",
    "join()\n",
    "Lock()\n",
    "RLock()\n",
    "Condition()"
   ]
  },
  {
   "cell_type": "code",
   "execution_count": null,
   "id": "6bdd5f97-6c92-4c8b-bd70-24db5a9249e9",
   "metadata": {},
   "outputs": [],
   "source": []
  },
  {
   "cell_type": "markdown",
   "id": "d1767d5f-017a-4eb3-a26d-efbd24eb84cc",
   "metadata": {},
   "source": [
    "Q2. Why threading module used? Write the use of the following functions\n",
    "\n",
    "1.activeCount()\n",
    "2.currentThread()\n",
    "3.enumerate()"
   ]
  },
  {
   "cell_type": "markdown",
   "id": "18785e1b-026e-40fd-b2fa-de7ad942a46b",
   "metadata": {},
   "source": [
    "The threading module is used to handle threads in Python. It provides a number of functions and classes \n",
    "that can be used to create and manage threads."
   ]
  },
  {
   "cell_type": "markdown",
   "id": "58d03c69-e85c-4383-a0dc-deef7d191189",
   "metadata": {},
   "source": [
    "1.The activeCount() function returns the number of active threads in the current process. This can be\n",
    "useful for tracking the number of threads that are running in your application."
   ]
  },
  {
   "cell_type": "markdown",
   "id": "0d5e180b-2d9c-4974-90ba-09636f4b70f2",
   "metadata": {},
   "source": [
    "2.The currentThread() function returns the current thread. This can be useful for accessing the current\n",
    "thread's state or for performing operations on the current thread."
   ]
  },
  {
   "cell_type": "markdown",
   "id": "94109167-3754-4c62-95a4-df60a7fcdd45",
   "metadata": {},
   "source": [
    "3.The enumerate() function returns a list of all the threads in the current process. This can be\n",
    "useful for iterating over all the threads in your application."
   ]
  },
  {
   "cell_type": "code",
   "execution_count": null,
   "id": "cd94c4da-f89d-4346-a7d9-c197827c03f1",
   "metadata": {},
   "outputs": [],
   "source": []
  },
  {
   "cell_type": "markdown",
   "id": "2df94c93-5dfb-4414-b7ba-32095f4143ba",
   "metadata": {},
   "source": [
    "Q3. Explain the following functions\n",
    "\n",
    "1.run()\n",
    "2.start()\n",
    "3.join()\n",
    "4.isAlive()"
   ]
  },
  {
   "cell_type": "markdown",
   "id": "208db6f2-5cf3-434c-930b-695b1833688f",
   "metadata": {},
   "source": [
    "1.run(): This method is the entry point for a thread. It is called by the start() method and is responsible\n",
    "for executing the thread's code. The run() method should not be called directly."
   ]
  },
  {
   "cell_type": "markdown",
   "id": "e0ef3d6f-6718-4cc8-af62-85f7fa3763dd",
   "metadata": {},
   "source": [
    "2.start(): This method starts a thread. It creates a new thread object and calls the thread's run() method. \n",
    "The start() method should be called to start a thread."
   ]
  },
  {
   "cell_type": "markdown",
   "id": "f8d4991f-9dc0-4f65-9ad3-b056595d4bdc",
   "metadata": {},
   "source": [
    "3.join(): This method waits for a thread to finish. It blocks the calling thread until the thread that is \n",
    "being joined has finished executing. The join() method should be called to wait for a thread to finish"
   ]
  },
  {
   "cell_type": "markdown",
   "id": "6ec22a9d-4829-49a1-aa53-2afc96a17909",
   "metadata": {},
   "source": [
    "4.isAlive(): This method returns a boolean value indicating whether a thread is alive. A thread is \n",
    "alive if it has been started and has not yet finished executing."
   ]
  },
  {
   "cell_type": "code",
   "execution_count": null,
   "id": "3e680e02-e2b1-4cdb-9222-b40392e86eb5",
   "metadata": {},
   "outputs": [],
   "source": []
  },
  {
   "cell_type": "markdown",
   "id": "7be821f2-cf25-49f6-b101-5f73ae4cccd7",
   "metadata": {},
   "source": [
    "Q4. Write a python program to create two threads. Thread one must print the list of squares and thread\n",
    "two must print the list of cubes"
   ]
  },
  {
   "cell_type": "code",
   "execution_count": 24,
   "id": "2dfc2ff9-6cb1-4167-958d-c42210ae7be5",
   "metadata": {},
   "outputs": [],
   "source": [
    "import threading"
   ]
  },
  {
   "cell_type": "code",
   "execution_count": 61,
   "id": "262868d3-8bd0-4e00-b3a3-4c7d0c9c9014",
   "metadata": {},
   "outputs": [
    {
     "name": "stdout",
     "output_type": "stream",
     "text": [
      "square of list is 1\n",
      "square of list is 4\n",
      "square of list is 9\n",
      "square of list is 16\n",
      "square of list is 25\n",
      "square of list is 36\n",
      "square of list is 49\n",
      "square of list is 64\n",
      "square of list is 81\n",
      "square of list is 100\n",
      "cube od list is 1\n",
      "cube od list is 8\n",
      "cube od list is 27\n",
      "cube od list is 64\n",
      "cube od list is 125\n",
      "cube od list is 216\n",
      "cube od list is 343\n",
      "cube od list is 512\n",
      "cube od list is 729\n",
      "cube od list is 1000\n"
     ]
    }
   ],
   "source": [
    "import threading\n",
    "\n",
    "def sq_list(num):\n",
    "    for i in num:\n",
    "        print('square of list is',i**2)\n",
    "        \n",
    "def cub_list(num):\n",
    "    for i in num:\n",
    "        print('cube od list is',i**3)\n",
    "        \n",
    "num = [1,2,3,4,5,6,7,8,9,10]\n",
    "\n",
    "thread1 = threading.Thread(target=sq_list, args=(num,))\n",
    "thread2 = threading.Thread(target=cub_list, args=(num,))\n",
    "\n",
    "thread1.start()\n",
    "thread2.start()\n",
    "\n",
    "thread1.join()\n",
    "thread2.join()"
   ]
  },
  {
   "cell_type": "code",
   "execution_count": null,
   "id": "12af2791-5d59-4b23-8e54-d387e01ce72e",
   "metadata": {},
   "outputs": [],
   "source": []
  },
  {
   "cell_type": "markdown",
   "id": "6e51267e-e8a9-4817-9389-875d063465f1",
   "metadata": {},
   "source": [
    "Q5. State advantages and disadvantages of multithreading"
   ]
  },
  {
   "cell_type": "markdown",
   "id": "2c555cce-8417-4734-be1f-b02ac4ea5dc3",
   "metadata": {},
   "source": [
    "Advantages-\n",
    "1.Multiple tasks can be done concurrently in single core\n",
    "2.responsiveness can be improved by allowing one thread to continue executing while other are running \n",
    "3.It can handle I/O-bound tasks, such as reading from a file or connecting to a database\n",
    "\n",
    "Disadvantages-\n",
    "1.Multithreading can be more complex to program than single-threaded code\n",
    "2.Multithreading can lead to resource contention if multiple threads are trying to access the same resources\n",
    "  at the same time\n",
    "3.To debugging is hard in multithreading"
   ]
  },
  {
   "cell_type": "code",
   "execution_count": null,
   "id": "0fdb9542-e02a-4b1b-a4e2-d50537781f36",
   "metadata": {},
   "outputs": [],
   "source": []
  },
  {
   "cell_type": "markdown",
   "id": "3b27355c-c261-4a54-bf3c-c7d1d4072a7e",
   "metadata": {},
   "source": [
    "6.Explain deadlocks and race conditions."
   ]
  },
  {
   "cell_type": "markdown",
   "id": "c7a630fb-af50-42aa-aac3-3bdbb23275bc",
   "metadata": {},
   "source": [
    "Deadlock: A deadlock is a situation where two or more threads are waiting for each other to release\n",
    "a resource. This can happen if two threads are both trying to acquire the same resource, or if two \n",
    "threads are each trying to acquire a different resource that the other thread is holding.\n",
    "\n",
    "Race condition: A race condition is a situation where the outcome of a program depends on the order\n",
    "in which two or more threads access a shared resource. This can happen if two threads are both trying\n",
    "to modify the same resource at the same time."
   ]
  },
  {
   "cell_type": "code",
   "execution_count": null,
   "id": "1036e08e-6837-4ca4-b3e7-83feb6bbae5d",
   "metadata": {},
   "outputs": [],
   "source": []
  },
  {
   "cell_type": "code",
   "execution_count": null,
   "id": "d1112169-94ac-4eba-8d73-b156250461bb",
   "metadata": {},
   "outputs": [],
   "source": []
  },
  {
   "cell_type": "code",
   "execution_count": null,
   "id": "aaaf3c4e-6cab-42e1-b8f0-4b161afab0fd",
   "metadata": {},
   "outputs": [],
   "source": []
  },
  {
   "cell_type": "markdown",
   "id": "d66d866b-11de-4bb2-8348-93fd0856fde1",
   "metadata": {},
   "source": []
  },
  {
   "cell_type": "code",
   "execution_count": null,
   "id": "9e2fa73d-3c74-4960-a0ff-062ffd32b7c3",
   "metadata": {},
   "outputs": [],
   "source": []
  }
 ],
 "metadata": {
  "kernelspec": {
   "display_name": "Python 3 (ipykernel)",
   "language": "python",
   "name": "python3"
  },
  "language_info": {
   "codemirror_mode": {
    "name": "ipython",
    "version": 3
   },
   "file_extension": ".py",
   "mimetype": "text/x-python",
   "name": "python",
   "nbconvert_exporter": "python",
   "pygments_lexer": "ipython3",
   "version": "3.10.8"
  }
 },
 "nbformat": 4,
 "nbformat_minor": 5
}
